{
  "nbformat": 4,
  "nbformat_minor": 0,
  "metadata": {
    "colab": {
      "provenance": []
    },
    "kernelspec": {
      "name": "python3",
      "display_name": "Python 3"
    },
    "language_info": {
      "name": "python"
    }
  },
  "cells": [
    {
      "cell_type": "markdown",
      "source": [
        "## Частина 2\n",
        "\n",
        "​\n",
        "\n",
        "В цій частині ми знову будемо працювати з датасетом fashion_mnist.\n",
        "\n",
        "\n",
        "\n",
        "На відміну від попереднього завдання вам пропонується створити згорткову нейромережу, що використовує VGG16 в якості згорткової основи.\n",
        "\n",
        "\n",
        "\n",
        "Навчіть отриману мережу на даних із датасету fashion_mnist. Спробуйте досягти максимально можливої точності класифікації за рахунок маніпуляції параметрами мережі. Під час навчання використовуйте прийоми донавчання та виділення ознак.\n",
        "\n",
        "\n",
        "\n",
        "Порівняйте точність отриманої згорткової мережі з точністю багатошарової мережі з попереднього завдання. Зробіть висновки."
      ],
      "metadata": {
        "id": "UJE2nJbSxhVx"
      }
    },
    {
      "cell_type": "code",
      "execution_count": null,
      "metadata": {
        "id": "t_0sS8P0uRTp"
      },
      "outputs": [],
      "source": [
        "import numpy as np\n",
        "import tensorflow as tf\n",
        "# from tensorflow.keras.datasets import fashion_mnist\n",
        "from tensorflow.keras.models import Model\n",
        "from tensorflow.keras.layers import Dense, Flatten, Dropout\n",
        "from tensorflow.keras.applications import VGG16\n",
        "from tensorflow.keras.applications.vgg16 import preprocess_input\n",
        "from tensorflow.keras.preprocessing.image import ImageDataGenerator\n",
        "from tensorflow.keras.utils import to_categorical\n",
        "from tensorflow.keras import models, layers\n",
        "\n",
        "fashion_mnist = tf.keras.datasets.fashion_mnist\n"
      ]
    },
    {
      "cell_type": "code",
      "source": [
        "# Завантаження датасету Fashion MNIST\n",
        "(train_images, train_labels), (test_images, test_labels) = fashion_mnist.load_data()"
      ],
      "metadata": {
        "id": "_1fEVcpyVJuk",
        "colab": {
          "base_uri": "https://localhost:8080/"
        },
        "outputId": "700215f0-f0eb-46fb-97ec-c033ada22a9e"
      },
      "execution_count": null,
      "outputs": [
        {
          "output_type": "stream",
          "name": "stdout",
          "text": [
            "Downloading data from https://storage.googleapis.com/tensorflow/tf-keras-datasets/train-labels-idx1-ubyte.gz\n",
            "29515/29515 [==============================] - 0s 0us/step\n",
            "Downloading data from https://storage.googleapis.com/tensorflow/tf-keras-datasets/train-images-idx3-ubyte.gz\n",
            "26421880/26421880 [==============================] - 0s 0us/step\n",
            "Downloading data from https://storage.googleapis.com/tensorflow/tf-keras-datasets/t10k-labels-idx1-ubyte.gz\n",
            "5148/5148 [==============================] - 0s 0us/step\n",
            "Downloading data from https://storage.googleapis.com/tensorflow/tf-keras-datasets/t10k-images-idx3-ubyte.gz\n",
            "4422102/4422102 [==============================] - 0s 0us/step\n"
          ]
        }
      ]
    },
    {
      "cell_type": "code",
      "source": [
        "\n",
        "# Перевірка форми даних\n",
        "print(\"Train images shape:\", train_images.shape)\n",
        "print(\"Train labels shape:\", train_labels.shape)\n",
        "print(\"Test images shape:\", test_images.shape)\n",
        "print(\"Test labels shape:\", test_labels.shape)"
      ],
      "metadata": {
        "colab": {
          "base_uri": "https://localhost:8080/"
        },
        "id": "ZskSY1sSVSco",
        "outputId": "9c7efa97-c5d3-4d75-aa68-8daf87129c4f"
      },
      "execution_count": null,
      "outputs": [
        {
          "output_type": "stream",
          "name": "stdout",
          "text": [
            "Train images shape: (60000, 28, 28)\n",
            "Train labels shape: (60000,)\n",
            "Test images shape: (10000, 28, 28)\n",
            "Test labels shape: (10000,)\n"
          ]
        }
      ]
    },
    {
      "cell_type": "code",
      "source": [
        "# Зміна розмірності зображень на 32x32\n",
        "train_images = tf.image.resize(train_images[..., tf.newaxis], [32, 32])\n",
        "test_images = tf.image.resize(test_images[..., tf.newaxis], [32, 32])"
      ],
      "metadata": {
        "id": "4FtXFTmtVb13"
      },
      "execution_count": null,
      "outputs": []
    },
    {
      "cell_type": "code",
      "source": [
        "# # Збільшення кількості каналів до 3 для сумісності з VGG16\n",
        "# x_train = np.stack([x_train]*3, axis=-1)\n",
        "# x_test = np.stack([x_test]*3, axis=-1)\n",
        "\n",
        "# # Зміна розміру зображень до 224x224 для сумісності з VGG16\n",
        "# x_train = tf.image.resize(x_train, (224, 224))\n",
        "# x_test = tf.image.resize(x_test, (224, 224))\n",
        "\n",
        "# Збільшення кількості каналів у зображеннях з 1 до 3\n",
        "train_images = tf.repeat(train_images, 3, axis=-1)\n",
        "test_images = tf.repeat(test_images, 3, axis=-1)"
      ],
      "metadata": {
        "id": "NEfXcDJsVn_E"
      },
      "execution_count": null,
      "outputs": []
    },
    {
      "cell_type": "code",
      "source": [
        "print(train_images.shape)\n",
        "print(test_images.shape)"
      ],
      "metadata": {
        "colab": {
          "base_uri": "https://localhost:8080/"
        },
        "id": "mmhlGTxbWDpv",
        "outputId": "2e968e98-ad20-4f9e-f4f3-d1399f46c280"
      },
      "execution_count": null,
      "outputs": [
        {
          "output_type": "stream",
          "name": "stdout",
          "text": [
            "(60000, 32, 32, 3)\n",
            "(10000, 32, 32, 3)\n"
          ]
        }
      ]
    },
    {
      "cell_type": "code",
      "source": [
        "# # Нормалізація даних\n",
        "# x_train = preprocess_input(x_train)\n",
        "# x_test = preprocess_input(x_test)\n",
        "\n",
        "# # One-hot енкодінг міток\n",
        "# y_train = to_categorical(y_train, 10)\n",
        "# y_test = to_categorical(y_test, 10)\n",
        "\n",
        "# Нормалізація піксельних значень до діапазону [0, 1]\n",
        "train_images = train_images / 255.0\n",
        "test_images = test_images / 255.0"
      ],
      "metadata": {
        "id": "n5Ya4Jh3WKta"
      },
      "execution_count": null,
      "outputs": []
    },
    {
      "cell_type": "code",
      "source": [
        "# Створення об'єкта генератора даних з параметрами аугментації для навчальних даних\n",
        "train_datagen = ImageDataGenerator(\n",
        "    rotation_range=10,\n",
        "    width_shift_range=0.1,\n",
        "    height_shift_range=0.1,\n",
        "    shear_range=0.2,\n",
        "    zoom_range=0.2,\n",
        "    horizontal_flip=True,\n",
        "    fill_mode='nearest'\n",
        ")\n",
        "\n",
        "# Генератор даних для навчального набору\n",
        "train_generator = train_datagen.flow(train_images, train_labels, batch_size=64)\n",
        "\n",
        "# Генератор даних для валідаційного набору без аугментації\n",
        "validation_datagen = ImageDataGenerator()\n",
        "\n",
        "# Генератор даних для валідаційного набору\n",
        "validation_generator = validation_datagen.flow(test_images, test_labels, batch_size=64)"
      ],
      "metadata": {
        "id": "ZH6DyIlcWMJQ"
      },
      "execution_count": null,
      "outputs": []
    },
    {
      "cell_type": "code",
      "source": [
        "# Завантаження VGG16\n",
        "conv_base = VGG16(weights=\"imagenet\", include_top=False, input_shape=(32, 32, 3))\n",
        "conv_base.trainable = False"
      ],
      "metadata": {
        "id": "ZGO_t9Hsxpwx"
      },
      "execution_count": null,
      "outputs": []
    },
    {
      "cell_type": "code",
      "source": [
        "conv_base.summary()"
      ],
      "metadata": {
        "colab": {
          "base_uri": "https://localhost:8080/"
        },
        "id": "LsF_A0HtWuTN",
        "outputId": "17e83f11-994f-4f2a-8928-51757525de0c"
      },
      "execution_count": null,
      "outputs": [
        {
          "output_type": "stream",
          "name": "stdout",
          "text": [
            "Model: \"vgg16\"\n",
            "_________________________________________________________________\n",
            " Layer (type)                Output Shape              Param #   \n",
            "=================================================================\n",
            " input_1 (InputLayer)        [(None, 32, 32, 3)]       0         \n",
            "                                                                 \n",
            " block1_conv1 (Conv2D)       (None, 32, 32, 64)        1792      \n",
            "                                                                 \n",
            " block1_conv2 (Conv2D)       (None, 32, 32, 64)        36928     \n",
            "                                                                 \n",
            " block1_pool (MaxPooling2D)  (None, 16, 16, 64)        0         \n",
            "                                                                 \n",
            " block2_conv1 (Conv2D)       (None, 16, 16, 128)       73856     \n",
            "                                                                 \n",
            " block2_conv2 (Conv2D)       (None, 16, 16, 128)       147584    \n",
            "                                                                 \n",
            " block2_pool (MaxPooling2D)  (None, 8, 8, 128)         0         \n",
            "                                                                 \n",
            " block3_conv1 (Conv2D)       (None, 8, 8, 256)         295168    \n",
            "                                                                 \n",
            " block3_conv2 (Conv2D)       (None, 8, 8, 256)         590080    \n",
            "                                                                 \n",
            " block3_conv3 (Conv2D)       (None, 8, 8, 256)         590080    \n",
            "                                                                 \n",
            " block3_pool (MaxPooling2D)  (None, 4, 4, 256)         0         \n",
            "                                                                 \n",
            " block4_conv1 (Conv2D)       (None, 4, 4, 512)         1180160   \n",
            "                                                                 \n",
            " block4_conv2 (Conv2D)       (None, 4, 4, 512)         2359808   \n",
            "                                                                 \n",
            " block4_conv3 (Conv2D)       (None, 4, 4, 512)         2359808   \n",
            "                                                                 \n",
            " block4_pool (MaxPooling2D)  (None, 2, 2, 512)         0         \n",
            "                                                                 \n",
            " block5_conv1 (Conv2D)       (None, 2, 2, 512)         2359808   \n",
            "                                                                 \n",
            " block5_conv2 (Conv2D)       (None, 2, 2, 512)         2359808   \n",
            "                                                                 \n",
            " block5_conv3 (Conv2D)       (None, 2, 2, 512)         2359808   \n",
            "                                                                 \n",
            " block5_pool (MaxPooling2D)  (None, 1, 1, 512)         0         \n",
            "                                                                 \n",
            "=================================================================\n",
            "Total params: 14714688 (56.13 MB)\n",
            "Trainable params: 0 (0.00 Byte)\n",
            "Non-trainable params: 14714688 (56.13 MB)\n",
            "_________________________________________________________________\n"
          ]
        }
      ]
    },
    {
      "cell_type": "code",
      "source": [
        "# Визначення моделі\n",
        "model = models.Sequential([\n",
        "    conv_base,\n",
        "    layers.Flatten(),\n",
        "    layers.Dense(256, activation=\"relu\"),\n",
        "    layers.Dense(10, activation=\"softmax\"), # Зміна на 10 вихідних класів, якщо це класифікація для Fashion MNIST\n",
        "])\n"
      ],
      "metadata": {
        "id": "23ZLL8SuW0nj"
      },
      "execution_count": null,
      "outputs": []
    },
    {
      "cell_type": "code",
      "source": [
        "model.summary()"
      ],
      "metadata": {
        "colab": {
          "base_uri": "https://localhost:8080/"
        },
        "id": "keG-LuRdXc87",
        "outputId": "867347a0-bbd1-4744-fe96-90f67c276b0f"
      },
      "execution_count": null,
      "outputs": [
        {
          "output_type": "stream",
          "name": "stdout",
          "text": [
            "Model: \"sequential\"\n",
            "_________________________________________________________________\n",
            " Layer (type)                Output Shape              Param #   \n",
            "=================================================================\n",
            " vgg16 (Functional)          (None, 1, 1, 512)         14714688  \n",
            "                                                                 \n",
            " flatten (Flatten)           (None, 512)               0         \n",
            "                                                                 \n",
            " dense (Dense)               (None, 256)               131328    \n",
            "                                                                 \n",
            " dense_1 (Dense)             (None, 10)                2570      \n",
            "                                                                 \n",
            "=================================================================\n",
            "Total params: 14848586 (56.64 MB)\n",
            "Trainable params: 133898 (523.04 KB)\n",
            "Non-trainable params: 14714688 (56.13 MB)\n",
            "_________________________________________________________________\n"
          ]
        }
      ]
    },
    {
      "cell_type": "code",
      "source": [
        "\n",
        "# Компіляція моделі\n",
        "model.compile(\n",
        "    loss=\"sparse_categorical_crossentropy\", # Зміна на sparse_categorical_crossentropy для багатокласової класифікації\n",
        "    optimizer=tf.keras.optimizers.RMSprop(learning_rate=2e-5),\n",
        "    metrics=[\"accuracy\"]\n",
        ")\n"
      ],
      "metadata": {
        "id": "OzYSmLTsXlxM"
      },
      "execution_count": null,
      "outputs": []
    },
    {
      "cell_type": "code",
      "source": [
        "\n",
        "# Тренування моделі\n",
        "history = model.fit(\n",
        "    train_generator,\n",
        "    steps_per_epoch=100,\n",
        "    epochs=100, # Зменшення кількості епох для швидшого тестування\n",
        "    validation_data=validation_generator,\n",
        "    validation_steps=50\n",
        ")"
      ],
      "metadata": {
        "colab": {
          "base_uri": "https://localhost:8080/"
        },
        "id": "evIyeUS7XnLA",
        "outputId": "4a134bb9-e8b3-4653-a858-aca66247939b"
      },
      "execution_count": null,
      "outputs": [
        {
          "output_type": "stream",
          "name": "stdout",
          "text": [
            "Epoch 1/100\n",
            "100/100 [==============================] - 130s 1s/step - loss: 2.2487 - accuracy: 0.1784 - val_loss: 2.1649 - val_accuracy: 0.2384\n",
            "Epoch 2/100\n",
            "100/100 [==============================] - 125s 1s/step - loss: 2.0674 - accuracy: 0.3303 - val_loss: 1.9792 - val_accuracy: 0.4272\n",
            "Epoch 3/100\n",
            "100/100 [==============================] - 125s 1s/step - loss: 1.9067 - accuracy: 0.4613 - val_loss: 1.8154 - val_accuracy: 0.5169\n",
            "Epoch 4/100\n",
            "100/100 [==============================] - 129s 1s/step - loss: 1.7642 - accuracy: 0.5387 - val_loss: 1.6856 - val_accuracy: 0.5691\n",
            "Epoch 5/100\n",
            "100/100 [==============================] - 126s 1s/step - loss: 1.6280 - accuracy: 0.5841 - val_loss: 1.5508 - val_accuracy: 0.6172\n",
            "Epoch 6/100\n",
            "100/100 [==============================] - 126s 1s/step - loss: 1.5296 - accuracy: 0.6070 - val_loss: 1.4442 - val_accuracy: 0.6372\n",
            "Epoch 7/100\n",
            "100/100 [==============================] - 126s 1s/step - loss: 1.4286 - accuracy: 0.6253 - val_loss: 1.3406 - val_accuracy: 0.6616\n",
            "Epoch 8/100\n",
            "100/100 [==============================] - 127s 1s/step - loss: 1.3524 - accuracy: 0.6331 - val_loss: 1.2865 - val_accuracy: 0.6603\n",
            "Epoch 9/100\n",
            "100/100 [==============================] - 126s 1s/step - loss: 1.2728 - accuracy: 0.6455 - val_loss: 1.2113 - val_accuracy: 0.6694\n",
            "Epoch 10/100\n",
            "100/100 [==============================] - 124s 1s/step - loss: 1.2222 - accuracy: 0.6600 - val_loss: 1.1553 - val_accuracy: 0.6897\n",
            "Epoch 11/100\n",
            "100/100 [==============================] - 125s 1s/step - loss: 1.1678 - accuracy: 0.6619 - val_loss: 1.1120 - val_accuracy: 0.6891\n",
            "Epoch 12/100\n",
            "100/100 [==============================] - 124s 1s/step - loss: 1.1140 - accuracy: 0.6759 - val_loss: 1.0662 - val_accuracy: 0.6953\n",
            "Epoch 13/100\n",
            "100/100 [==============================] - 127s 1s/step - loss: 1.0713 - accuracy: 0.6833 - val_loss: 1.0394 - val_accuracy: 0.6919\n",
            "Epoch 14/100\n",
            "100/100 [==============================] - 165s 2s/step - loss: 1.0509 - accuracy: 0.6842 - val_loss: 0.9906 - val_accuracy: 0.7153\n",
            "Epoch 15/100\n",
            "100/100 [==============================] - 132s 1s/step - loss: 1.0283 - accuracy: 0.6836 - val_loss: 0.9829 - val_accuracy: 0.7091\n",
            "Epoch 16/100\n",
            "100/100 [==============================] - 125s 1s/step - loss: 1.0081 - accuracy: 0.6777 - val_loss: 0.9670 - val_accuracy: 0.7038\n",
            "Epoch 17/100\n",
            "100/100 [==============================] - 125s 1s/step - loss: 0.9935 - accuracy: 0.6819 - val_loss: 0.9277 - val_accuracy: 0.7103\n",
            "Epoch 18/100\n",
            "100/100 [==============================] - 125s 1s/step - loss: 0.9587 - accuracy: 0.6980 - val_loss: 0.9253 - val_accuracy: 0.7119\n",
            "Epoch 19/100\n",
            "100/100 [==============================] - 122s 1s/step - loss: 0.9400 - accuracy: 0.7030 - val_loss: 0.8922 - val_accuracy: 0.7147\n",
            "Epoch 20/100\n",
            "100/100 [==============================] - 123s 1s/step - loss: 0.9318 - accuracy: 0.6984 - val_loss: 0.8784 - val_accuracy: 0.7159\n",
            "Epoch 21/100\n",
            "100/100 [==============================] - 124s 1s/step - loss: 0.9121 - accuracy: 0.6983 - val_loss: 0.9024 - val_accuracy: 0.7053\n",
            "Epoch 22/100\n",
            "100/100 [==============================] - 124s 1s/step - loss: 0.9041 - accuracy: 0.7005 - val_loss: 0.8708 - val_accuracy: 0.7184\n",
            "Epoch 23/100\n",
            "100/100 [==============================] - 127s 1s/step - loss: 0.8782 - accuracy: 0.7155 - val_loss: 0.8735 - val_accuracy: 0.7044\n",
            "Epoch 24/100\n",
            "100/100 [==============================] - 126s 1s/step - loss: 0.8857 - accuracy: 0.7050 - val_loss: 0.8497 - val_accuracy: 0.7212\n",
            "Epoch 25/100\n",
            "100/100 [==============================] - 125s 1s/step - loss: 0.8603 - accuracy: 0.7166 - val_loss: 0.8364 - val_accuracy: 0.7244\n",
            "Epoch 26/100\n",
            "100/100 [==============================] - 125s 1s/step - loss: 0.8641 - accuracy: 0.7156 - val_loss: 0.8399 - val_accuracy: 0.7234\n",
            "Epoch 27/100\n",
            "100/100 [==============================] - 126s 1s/step - loss: 0.8428 - accuracy: 0.7134 - val_loss: 0.8210 - val_accuracy: 0.7231\n",
            "Epoch 28/100\n",
            "100/100 [==============================] - 125s 1s/step - loss: 0.8423 - accuracy: 0.7117 - val_loss: 0.8125 - val_accuracy: 0.7250\n",
            "Epoch 29/100\n",
            "100/100 [==============================] - 122s 1s/step - loss: 0.8270 - accuracy: 0.7278 - val_loss: 0.8062 - val_accuracy: 0.7297\n",
            "Epoch 30/100\n",
            "100/100 [==============================] - 124s 1s/step - loss: 0.8142 - accuracy: 0.7245 - val_loss: 0.7912 - val_accuracy: 0.7347\n",
            "Epoch 31/100\n",
            "100/100 [==============================] - 124s 1s/step - loss: 0.8169 - accuracy: 0.7244 - val_loss: 0.8070 - val_accuracy: 0.7306\n",
            "Epoch 32/100\n",
            "100/100 [==============================] - 125s 1s/step - loss: 0.8017 - accuracy: 0.7286 - val_loss: 0.7834 - val_accuracy: 0.7362\n",
            "Epoch 33/100\n",
            "100/100 [==============================] - 124s 1s/step - loss: 0.8287 - accuracy: 0.7192 - val_loss: 0.7855 - val_accuracy: 0.7428\n",
            "Epoch 34/100\n",
            "100/100 [==============================] - 123s 1s/step - loss: 0.7971 - accuracy: 0.7328 - val_loss: 0.7894 - val_accuracy: 0.7259\n",
            "Epoch 35/100\n",
            "100/100 [==============================] - 125s 1s/step - loss: 0.7970 - accuracy: 0.7231 - val_loss: 0.7862 - val_accuracy: 0.7309\n",
            "Epoch 36/100\n",
            "100/100 [==============================] - 124s 1s/step - loss: 0.7834 - accuracy: 0.7304 - val_loss: 0.7538 - val_accuracy: 0.7509\n",
            "Epoch 37/100\n",
            "100/100 [==============================] - 125s 1s/step - loss: 0.7826 - accuracy: 0.7319 - val_loss: 0.7680 - val_accuracy: 0.7503\n",
            "Epoch 38/100\n",
            "100/100 [==============================] - 122s 1s/step - loss: 0.7716 - accuracy: 0.7380 - val_loss: 0.7669 - val_accuracy: 0.7412\n",
            "Epoch 39/100\n",
            "100/100 [==============================] - 125s 1s/step - loss: 0.7732 - accuracy: 0.7361 - val_loss: 0.7530 - val_accuracy: 0.7453\n",
            "Epoch 40/100\n",
            "100/100 [==============================] - 123s 1s/step - loss: 0.7695 - accuracy: 0.7394 - val_loss: 0.7652 - val_accuracy: 0.7400\n",
            "Epoch 41/100\n",
            "100/100 [==============================] - 124s 1s/step - loss: 0.7628 - accuracy: 0.7287 - val_loss: 0.7345 - val_accuracy: 0.7541\n",
            "Epoch 42/100\n",
            "100/100 [==============================] - 124s 1s/step - loss: 0.7692 - accuracy: 0.7274 - val_loss: 0.7546 - val_accuracy: 0.7375\n",
            "Epoch 43/100\n",
            "100/100 [==============================] - 126s 1s/step - loss: 0.7748 - accuracy: 0.7322 - val_loss: 0.7273 - val_accuracy: 0.7491\n",
            "Epoch 44/100\n",
            "100/100 [==============================] - 124s 1s/step - loss: 0.7431 - accuracy: 0.7407 - val_loss: 0.7496 - val_accuracy: 0.7447\n",
            "Epoch 45/100\n",
            "100/100 [==============================] - 124s 1s/step - loss: 0.7581 - accuracy: 0.7391 - val_loss: 0.7434 - val_accuracy: 0.7431\n",
            "Epoch 46/100\n",
            "100/100 [==============================] - 129s 1s/step - loss: 0.7489 - accuracy: 0.7428 - val_loss: 0.7365 - val_accuracy: 0.7478\n",
            "Epoch 47/100\n",
            "100/100 [==============================] - 124s 1s/step - loss: 0.7366 - accuracy: 0.7427 - val_loss: 0.7481 - val_accuracy: 0.7497\n",
            "Epoch 48/100\n",
            "100/100 [==============================] - 125s 1s/step - loss: 0.7340 - accuracy: 0.7495 - val_loss: 0.7375 - val_accuracy: 0.7466\n",
            "Epoch 49/100\n",
            "100/100 [==============================] - 124s 1s/step - loss: 0.7570 - accuracy: 0.7359 - val_loss: 0.7538 - val_accuracy: 0.7359\n",
            "Epoch 50/100\n",
            "100/100 [==============================] - 169s 2s/step - loss: 0.7301 - accuracy: 0.7456 - val_loss: 0.6937 - val_accuracy: 0.7647\n",
            "Epoch 51/100\n",
            "100/100 [==============================] - 124s 1s/step - loss: 0.7507 - accuracy: 0.7370 - val_loss: 0.7242 - val_accuracy: 0.7494\n",
            "Epoch 52/100\n",
            "100/100 [==============================] - 124s 1s/step - loss: 0.7255 - accuracy: 0.7505 - val_loss: 0.7194 - val_accuracy: 0.7597\n",
            "Epoch 53/100\n",
            "100/100 [==============================] - 126s 1s/step - loss: 0.7128 - accuracy: 0.7491 - val_loss: 0.7370 - val_accuracy: 0.7481\n",
            "Epoch 54/100\n",
            "100/100 [==============================] - 125s 1s/step - loss: 0.7049 - accuracy: 0.7631 - val_loss: 0.6780 - val_accuracy: 0.7722\n",
            "Epoch 55/100\n",
            "100/100 [==============================] - 125s 1s/step - loss: 0.7116 - accuracy: 0.7502 - val_loss: 0.7038 - val_accuracy: 0.7541\n",
            "Epoch 56/100\n",
            "100/100 [==============================] - 124s 1s/step - loss: 0.7158 - accuracy: 0.7569 - val_loss: 0.6961 - val_accuracy: 0.7528\n",
            "Epoch 57/100\n",
            "100/100 [==============================] - 124s 1s/step - loss: 0.7063 - accuracy: 0.7495 - val_loss: 0.7359 - val_accuracy: 0.7513\n",
            "Epoch 58/100\n",
            "100/100 [==============================] - 126s 1s/step - loss: 0.7086 - accuracy: 0.7528 - val_loss: 0.6971 - val_accuracy: 0.7644\n",
            "Epoch 59/100\n",
            "100/100 [==============================] - 128s 1s/step - loss: 0.7121 - accuracy: 0.7513 - val_loss: 0.7098 - val_accuracy: 0.7563\n",
            "Epoch 60/100\n",
            "100/100 [==============================] - 126s 1s/step - loss: 0.7129 - accuracy: 0.7498 - val_loss: 0.6542 - val_accuracy: 0.7716\n",
            "Epoch 61/100\n",
            "100/100 [==============================] - 166s 2s/step - loss: 0.7106 - accuracy: 0.7522 - val_loss: 0.6902 - val_accuracy: 0.7588\n",
            "Epoch 62/100\n",
            "100/100 [==============================] - 123s 1s/step - loss: 0.6964 - accuracy: 0.7572 - val_loss: 0.7020 - val_accuracy: 0.7631\n",
            "Epoch 63/100\n",
            "100/100 [==============================] - 126s 1s/step - loss: 0.6931 - accuracy: 0.7591 - val_loss: 0.6996 - val_accuracy: 0.7559\n",
            "Epoch 64/100\n",
            "100/100 [==============================] - 124s 1s/step - loss: 0.7066 - accuracy: 0.7495 - val_loss: 0.6715 - val_accuracy: 0.7669\n",
            "Epoch 65/100\n",
            "100/100 [==============================] - 124s 1s/step - loss: 0.7087 - accuracy: 0.7489 - val_loss: 0.6604 - val_accuracy: 0.7759\n",
            "Epoch 66/100\n",
            "100/100 [==============================] - 125s 1s/step - loss: 0.7006 - accuracy: 0.7539 - val_loss: 0.6683 - val_accuracy: 0.7731\n",
            "Epoch 67/100\n",
            "100/100 [==============================] - 124s 1s/step - loss: 0.6841 - accuracy: 0.7618 - val_loss: 0.6922 - val_accuracy: 0.7622\n",
            "Epoch 68/100\n",
            "100/100 [==============================] - 128s 1s/step - loss: 0.6740 - accuracy: 0.7686 - val_loss: 0.6813 - val_accuracy: 0.7603\n",
            "Epoch 69/100\n",
            "100/100 [==============================] - 124s 1s/step - loss: 0.6839 - accuracy: 0.7622 - val_loss: 0.6626 - val_accuracy: 0.7691\n",
            "Epoch 70/100\n",
            "100/100 [==============================] - 125s 1s/step - loss: 0.6816 - accuracy: 0.7619 - val_loss: 0.6756 - val_accuracy: 0.7641\n",
            "Epoch 71/100\n",
            "100/100 [==============================] - 128s 1s/step - loss: 0.6957 - accuracy: 0.7539 - val_loss: 0.6750 - val_accuracy: 0.7625\n",
            "Epoch 72/100\n",
            "100/100 [==============================] - 123s 1s/step - loss: 0.6787 - accuracy: 0.7611 - val_loss: 0.6700 - val_accuracy: 0.7669\n",
            "Epoch 73/100\n",
            "100/100 [==============================] - 122s 1s/step - loss: 0.6801 - accuracy: 0.7589 - val_loss: 0.6769 - val_accuracy: 0.7713\n",
            "Epoch 74/100\n",
            "100/100 [==============================] - 165s 2s/step - loss: 0.6814 - accuracy: 0.7634 - val_loss: 0.6641 - val_accuracy: 0.7619\n",
            "Epoch 75/100\n",
            "100/100 [==============================] - 124s 1s/step - loss: 0.6929 - accuracy: 0.7567 - val_loss: 0.6766 - val_accuracy: 0.7666\n",
            "Epoch 76/100\n",
            "100/100 [==============================] - 126s 1s/step - loss: 0.6930 - accuracy: 0.7593 - val_loss: 0.6512 - val_accuracy: 0.7678\n",
            "Epoch 77/100\n",
            "100/100 [==============================] - 124s 1s/step - loss: 0.6715 - accuracy: 0.7594 - val_loss: 0.6537 - val_accuracy: 0.7728\n",
            "Epoch 78/100\n",
            "100/100 [==============================] - 123s 1s/step - loss: 0.6589 - accuracy: 0.7688 - val_loss: 0.6939 - val_accuracy: 0.7572\n",
            "Epoch 79/100\n",
            "100/100 [==============================] - 125s 1s/step - loss: 0.6736 - accuracy: 0.7628 - val_loss: 0.6762 - val_accuracy: 0.7566\n",
            "Epoch 80/100\n",
            "100/100 [==============================] - 120s 1s/step - loss: 0.6605 - accuracy: 0.7709 - val_loss: 0.6560 - val_accuracy: 0.7744\n",
            "Epoch 81/100\n",
            "100/100 [==============================] - 126s 1s/step - loss: 0.6506 - accuracy: 0.7692 - val_loss: 0.6715 - val_accuracy: 0.7653\n",
            "Epoch 82/100\n",
            "100/100 [==============================] - 123s 1s/step - loss: 0.6621 - accuracy: 0.7720 - val_loss: 0.6649 - val_accuracy: 0.7625\n",
            "Epoch 83/100\n",
            "100/100 [==============================] - 121s 1s/step - loss: 0.6620 - accuracy: 0.7672 - val_loss: 0.6403 - val_accuracy: 0.7700\n",
            "Epoch 84/100\n",
            "100/100 [==============================] - 126s 1s/step - loss: 0.6535 - accuracy: 0.7741 - val_loss: 0.6372 - val_accuracy: 0.7772\n",
            "Epoch 85/100\n",
            "100/100 [==============================] - 124s 1s/step - loss: 0.6612 - accuracy: 0.7641 - val_loss: 0.6510 - val_accuracy: 0.7741\n",
            "Epoch 86/100\n",
            "100/100 [==============================] - 125s 1s/step - loss: 0.6739 - accuracy: 0.7595 - val_loss: 0.6598 - val_accuracy: 0.7716\n",
            "Epoch 87/100\n",
            "100/100 [==============================] - 125s 1s/step - loss: 0.6438 - accuracy: 0.7731 - val_loss: 0.6547 - val_accuracy: 0.7694\n",
            "Epoch 88/100\n",
            "100/100 [==============================] - 123s 1s/step - loss: 0.6813 - accuracy: 0.7556 - val_loss: 0.6455 - val_accuracy: 0.7769\n",
            "Epoch 89/100\n",
            "100/100 [==============================] - 168s 2s/step - loss: 0.6654 - accuracy: 0.7659 - val_loss: 0.6659 - val_accuracy: 0.7634\n",
            "Epoch 90/100\n",
            "100/100 [==============================] - 166s 2s/step - loss: 0.6603 - accuracy: 0.7694 - val_loss: 0.6549 - val_accuracy: 0.7631\n",
            "Epoch 91/100\n",
            "100/100 [==============================] - 124s 1s/step - loss: 0.6586 - accuracy: 0.7634 - val_loss: 0.6803 - val_accuracy: 0.7578\n",
            "Epoch 92/100\n",
            "100/100 [==============================] - 126s 1s/step - loss: 0.6552 - accuracy: 0.7706 - val_loss: 0.6489 - val_accuracy: 0.7719\n",
            "Epoch 93/100\n",
            "100/100 [==============================] - 128s 1s/step - loss: 0.6654 - accuracy: 0.7638 - val_loss: 0.6463 - val_accuracy: 0.7756\n",
            "Epoch 94/100\n",
            "100/100 [==============================] - 125s 1s/step - loss: 0.6585 - accuracy: 0.7659 - val_loss: 0.6672 - val_accuracy: 0.7619\n",
            "Epoch 95/100\n",
            "100/100 [==============================] - 126s 1s/step - loss: 0.6523 - accuracy: 0.7675 - val_loss: 0.6466 - val_accuracy: 0.7763\n",
            "Epoch 96/100\n",
            "100/100 [==============================] - 124s 1s/step - loss: 0.6357 - accuracy: 0.7806 - val_loss: 0.6481 - val_accuracy: 0.7731\n",
            "Epoch 97/100\n",
            "100/100 [==============================] - 165s 2s/step - loss: 0.6438 - accuracy: 0.7685 - val_loss: 0.6644 - val_accuracy: 0.7697\n",
            "Epoch 98/100\n",
            "100/100 [==============================] - 125s 1s/step - loss: 0.6495 - accuracy: 0.7689 - val_loss: 0.6649 - val_accuracy: 0.7684\n",
            "Epoch 99/100\n",
            "100/100 [==============================] - 146s 1s/step - loss: 0.6303 - accuracy: 0.7830 - val_loss: 0.6455 - val_accuracy: 0.7709\n",
            "Epoch 100/100\n",
            "100/100 [==============================] - 120s 1s/step - loss: 0.6471 - accuracy: 0.7717 - val_loss: 0.6384 - val_accuracy: 0.7738\n"
          ]
        }
      ]
    },
    {
      "cell_type": "code",
      "source": [
        "import matplotlib.pyplot as plt\n",
        "\n",
        "acc = history.history[\"accuracy\"]\n",
        "val_acc = history.history[\"val_accuracy\"]\n",
        "\n",
        "loss = history.history[\"loss\"]\n",
        "val_loss = history.history[\"val_loss\"]\n",
        "\n",
        "epochs = range(1, len(acc) + 1)\n",
        "\n",
        "plt.figure(figsize=(20, 7), dpi=80)\n",
        "plt.grid(True)\n",
        "\n",
        "plt.plot(epochs, acc, \"bo\", label=\"Training acc\")\n",
        "plt.plot(epochs, val_acc, \"b\", label=\"Validation accuracy\")\n",
        "\n",
        "plt.title(\"Training and validation accuracy\")\n",
        "plt.legend()\n",
        "\n",
        "plt.figure(figsize=(20, 7), dpi=80)\n",
        "plt.grid(True)\n",
        "\n",
        "plt.plot(epochs, loss, \"bo\", label=\"Training loss\")\n",
        "plt.plot(epochs, val_loss, \"b\", label=\"Validation loss\")\n",
        "plt.title(\"Training and validation loss\")\n",
        "\n",
        "plt.legend()\n",
        "plt.show()"
      ],
      "metadata": {
        "id": "EuuZCT0LZARW",
        "colab": {
          "base_uri": "https://localhost:8080/",
          "height": 979
        },
        "outputId": "ac7dc47c-9481-431b-86ec-cfcab82f2d37"
      },
      "execution_count": null,
      "outputs": [
        {
          "output_type": "display_data",
          "data": {
            "text/plain": [
              "<Figure size 1600x560 with 1 Axes>"
            ],
            "image/png": "[encoded data removed]"
          },
          "metadata": {}
        },
        {
          "output_type": "display_data",
          "data": {
            "text/plain": [
              "<Figure size 1600x560 with 1 Axes>"
            ],
            "image/png": "[encoded data removed]"
          },
          "metadata": {}
        }
      ]
    },
    {
      "cell_type": "code",
      "source": [
        "from sklearn.metrics import classification_report\n",
        "import numpy as np\n",
        "\n",
        "# Отримання передбачень для тестових даних\n",
        "predictions = model.predict(test_images)\n",
        "predicted_classes = np.argmax(predictions, axis=1)\n",
        "\n",
        "# Генерація classification report\n",
        "report = classification_report(test_labels, predicted_classes)\n",
        "print(report)\n",
        "\n",
        "# Перевірка точності на тестових даних за допомогою генератора\n",
        "test_loss, test_acc = model.evaluate(validation_generator, steps=len(test_images) // 64, verbose=2)\n",
        "print(f'Test accuracy: {test_acc}')"
      ],
      "metadata": {
        "id": "0-f3mRzYZD9f",
        "colab": {
          "base_uri": "https://localhost:8080/"
        },
        "outputId": "bdbdbce2-c7dd-4379-ba27-dfe6957b193e"
      },
      "execution_count": null,
      "outputs": [
        {
          "output_type": "stream",
          "name": "stdout",
          "text": [
            "313/313 [==============================] - 134s 428ms/step\n",
            "              precision    recall  f1-score   support\n",
            "\n",
            "           0       0.69      0.76      0.72      1000\n",
            "           1       0.98      0.90      0.94      1000\n",
            "           2       0.62      0.77      0.69      1000\n",
            "           3       0.82      0.63      0.71      1000\n",
            "           4       0.58      0.73      0.65      1000\n",
            "           5       0.90      0.90      0.90      1000\n",
            "           6       0.53      0.39      0.45      1000\n",
            "           7       0.90      0.84      0.87      1000\n",
            "           8       0.90      0.91      0.90      1000\n",
            "           9       0.90      0.94      0.92      1000\n",
            "\n",
            "    accuracy                           0.78     10000\n",
            "   macro avg       0.78      0.78      0.78     10000\n",
            "weighted avg       0.78      0.78      0.78     10000\n",
            "\n",
            "156/156 - 124s - loss: 0.6380 - accuracy: 0.7765 - 124s/epoch - 795ms/step\n",
            "Test accuracy: 0.7765424847602844\n"
          ]
        }
      ]
    },
    {
      "cell_type": "code",
      "source": [
        "model.save(\"model_VGG16.keras\")"
      ],
      "metadata": {
        "id": "557Ulw7WZEe9"
      },
      "execution_count": null,
      "outputs": []
    },
    {
      "cell_type": "markdown",
      "source": [
        "## 2. Донавчання моделі"
      ],
      "metadata": {
        "id": "8YxQJY1iZHAX"
      }
    },
    {
      "cell_type": "code",
      "source": [
        "import numpy as np\n",
        "import tensorflow as tf\n",
        "# from tensorflow.keras.datasets import fashion_mnist\n",
        "from tensorflow.keras.models import Model\n",
        "from tensorflow.keras.layers import Dense, Flatten, Dropout\n",
        "from tensorflow.keras.applications import VGG16\n",
        "from tensorflow.keras.applications.vgg16 import preprocess_input\n",
        "from tensorflow.keras.preprocessing.image import ImageDataGenerator\n",
        "from tensorflow.keras.utils import to_categorical\n",
        "from tensorflow.keras import models, layers\n",
        "\n",
        "fashion_mnist = tf.keras.datasets.fashion_mnist"
      ],
      "metadata": {
        "id": "TmEhFyI8jzUi"
      },
      "execution_count": 1,
      "outputs": []
    },
    {
      "cell_type": "code",
      "source": [
        "# Завантаження датасету Fashion MNIST\n",
        "(train_images, train_labels), (test_images, test_labels) = fashion_mnist.load_data()\n",
        "\n",
        "# Зміна розмірності зображень на 150x150\n",
        "train_images = tf.image.resize(train_images[..., tf.newaxis], [32, 32])\n",
        "test_images = tf.image.resize(test_images[..., tf.newaxis], [32, 32])\n",
        "\n",
        "# Збільшення кількості каналів у зображеннях з 1 до 3\n",
        "train_images = tf.repeat(train_images, 3, axis=-1)\n",
        "test_images = tf.repeat(test_images, 3, axis=-1)\n",
        "\n",
        "# Створення об'єкта генератора даних з параметрами аугментації для навчальних даних\n",
        "train_datagen = ImageDataGenerator(\n",
        "    rotation_range=10,\n",
        "    width_shift_range=0.1,\n",
        "    height_shift_range=0.1,\n",
        "    shear_range=0.2,\n",
        "    zoom_range=0.2,\n",
        "    horizontal_flip=True,\n",
        "    fill_mode='nearest'\n",
        ")\n",
        "\n",
        "# Генератор даних для навчального набору\n",
        "train_generator = train_datagen.flow(train_images, train_labels, batch_size=64)\n",
        "\n",
        "# Генератор даних для валідаційного набору без аугментації\n",
        "validation_datagen = ImageDataGenerator()\n",
        "\n",
        "# Генератор даних для валідаційного набору\n",
        "validation_generator = validation_datagen.flow(test_images, test_labels, batch_size=64)"
      ],
      "metadata": {
        "colab": {
          "base_uri": "https://localhost:8080/"
        },
        "id": "V_SlqItviUHy",
        "outputId": "ebb486ec-c552-411b-8536-290e72155ca6"
      },
      "execution_count": 2,
      "outputs": [
        {
          "output_type": "stream",
          "name": "stdout",
          "text": [
            "Downloading data from https://storage.googleapis.com/tensorflow/tf-keras-datasets/train-labels-idx1-ubyte.gz\n",
            "29515/29515 [==============================] - 0s 0us/step\n",
            "Downloading data from https://storage.googleapis.com/tensorflow/tf-keras-datasets/train-images-idx3-ubyte.gz\n",
            "26421880/26421880 [==============================] - 1s 0us/step\n",
            "Downloading data from https://storage.googleapis.com/tensorflow/tf-keras-datasets/t10k-labels-idx1-ubyte.gz\n",
            "5148/5148 [==============================] - 0s 0us/step\n",
            "Downloading data from https://storage.googleapis.com/tensorflow/tf-keras-datasets/t10k-images-idx3-ubyte.gz\n",
            "4422102/4422102 [==============================] - 0s 0us/step\n"
          ]
        }
      ]
    },
    {
      "cell_type": "code",
      "source": [
        "conv_base = VGG16(weights=\"imagenet\", include_top=False, input_shape=(32, 32, 3))"
      ],
      "metadata": {
        "id": "3-SWOZF9ZIzy",
        "colab": {
          "base_uri": "https://localhost:8080/"
        },
        "outputId": "43d14474-1a46-435d-cf9c-cdee72de9240"
      },
      "execution_count": 3,
      "outputs": [
        {
          "output_type": "stream",
          "name": "stdout",
          "text": [
            "Downloading data from https://storage.googleapis.com/tensorflow/keras-applications/vgg16/vgg16_weights_tf_dim_ordering_tf_kernels_notop.h5\n",
            "58889256/58889256 [==============================] - 1s 0us/step\n"
          ]
        }
      ]
    },
    {
      "cell_type": "code",
      "source": [
        "\n",
        "# розмороження кілька верхніх шарів у створеному раніше conv_base\n",
        "conv_base.trainable = True\n",
        "set_trainable = False\n",
        "for layer in conv_base.layers:\n",
        "    if layer.name == \"block5_conv1\":\n",
        "        set_trainable = True\n",
        "    if set_trainable:\n",
        "        layer.trainable = True\n",
        "    else:\n",
        "        layer.trainable = False"
      ],
      "metadata": {
        "id": "5GnSC2J5ZNHY"
      },
      "execution_count": 4,
      "outputs": []
    },
    {
      "cell_type": "code",
      "source": [
        "# # Визначаємо модифікову модель\n",
        "# modified_model = models.Sequential([\n",
        "#    conv_base,\n",
        "#    layers.Flatten(),\n",
        "#    layers.Dense(256, activation=\"relu\"),\n",
        "#    layers.Dense(1, activation=\"sigmoid\"),\n",
        "# ])\n",
        "# Визначаємо модифікову модель\n",
        "modified_model = models.Sequential([\n",
        "    conv_base,\n",
        "    layers.Flatten(),\n",
        "    layers.Dense(256, activation=\"relu\"),\n",
        "    layers.Dropout(0.5),  # Додаємо Dropout для зменшення перенавчання\n",
        "    layers.Dense(10, activation=\"softmax\"),  # Зміна на 10 класів і функцію активації softmax\n",
        "])\n"
      ],
      "metadata": {
        "id": "yAPhk5a-ZRUI"
      },
      "execution_count": 5,
      "outputs": []
    },
    {
      "cell_type": "code",
      "source": [
        "\n",
        "# # Компілюємо модель\n",
        "# modified_model.compile(\n",
        "#     loss=\"sparse_categorical_crossentropy\", # Зміна на sparse_categorical_crossentropy для багатокласової класифікації\n",
        "#     optimizer=tf.keras.optimizers.RMSprop(learning_rate=2e-5),\n",
        "#     metrics=[\"accuracy\"]\n",
        "# )\n",
        "# Компілюємо модель\n",
        "modified_model.compile(\n",
        "    loss=\"sparse_categorical_crossentropy\",  # Зміна на sparse_categorical_crossentropy для багатокласової класифікації\n",
        "    optimizer=tf.keras.optimizers.RMSprop(learning_rate=2e-5),\n",
        "    metrics=[\"accuracy\"]\n",
        ")"
      ],
      "metadata": {
        "id": "qNYv6I20ZVAm"
      },
      "execution_count": 6,
      "outputs": []
    },
    {
      "cell_type": "code",
      "source": [
        "# # Завантаження VGG16\n",
        "# conv_base = VGG16(weights=\"imagenet\", include_top=False, input_shape=(32, 32, 3))\n",
        "# conv_base.trainable = False"
      ],
      "metadata": {
        "id": "KWo_tm_wf4sl"
      },
      "execution_count": null,
      "outputs": []
    },
    {
      "cell_type": "code",
      "source": [
        "# # Навчаємо модель\n",
        "# history_modified_model = modified_model.fit(\n",
        "#     train_generator,\n",
        "#     steps_per_epoch=100,\n",
        "#     epochs=100,\n",
        "#     validation_data=validation_generator,\n",
        "#     validation_steps=50\n",
        "# )\n",
        "\n",
        "# Навчання моделі\n",
        "history = modified_model.fit(\n",
        "    train_generator,\n",
        "    steps_per_epoch=len(train_generator),\n",
        "    epochs=10,\n",
        "    validation_data=validation_generator,\n",
        "    validation_steps=len(validation_generator)\n",
        ")"
      ],
      "metadata": {
        "id": "L4bH9SNCZXA5",
        "colab": {
          "base_uri": "https://localhost:8080/"
        },
        "outputId": "bfa3c6f7-5f39-4900-e2b0-2a2cc41269f9"
      },
      "execution_count": 7,
      "outputs": [
        {
          "output_type": "stream",
          "name": "stdout",
          "text": [
            "Epoch 1/10\n",
            "938/938 [==============================] - 2971s 3s/step - loss: 1.5300 - accuracy: 0.5480 - val_loss: 0.7030 - val_accuracy: 0.7963\n",
            "Epoch 2/10\n",
            "938/938 [==============================] - 2955s 3s/step - loss: 0.7513 - accuracy: 0.7744 - val_loss: 0.5703 - val_accuracy: 0.7990\n",
            "Epoch 3/10\n",
            "938/938 [==============================] - 2948s 3s/step - loss: 0.5960 - accuracy: 0.8065 - val_loss: 0.4371 - val_accuracy: 0.8523\n",
            "Epoch 4/10\n",
            "938/938 [==============================] - 3045s 3s/step - loss: 0.5059 - accuracy: 0.8336 - val_loss: 0.4173 - val_accuracy: 0.8581\n",
            "Epoch 5/10\n",
            "938/938 [==============================] - 2992s 3s/step - loss: 0.4617 - accuracy: 0.8452 - val_loss: 0.3891 - val_accuracy: 0.8644\n",
            "Epoch 6/10\n",
            "938/938 [==============================] - 3006s 3s/step - loss: 0.4394 - accuracy: 0.8529 - val_loss: 0.4337 - val_accuracy: 0.8492\n",
            "Epoch 7/10\n",
            "938/938 [==============================] - 3012s 3s/step - loss: 0.4165 - accuracy: 0.8611 - val_loss: 0.3970 - val_accuracy: 0.8666\n",
            "Epoch 8/10\n",
            "938/938 [==============================] - 3019s 3s/step - loss: 0.4029 - accuracy: 0.8638 - val_loss: 0.3555 - val_accuracy: 0.8797\n",
            "Epoch 9/10\n",
            "938/938 [==============================] - 2954s 3s/step - loss: 0.3887 - accuracy: 0.8683 - val_loss: 0.3969 - val_accuracy: 0.8661\n",
            "Epoch 10/10\n",
            "938/938 [==============================] - 2964s 3s/step - loss: 0.3789 - accuracy: 0.8701 - val_loss: 0.3636 - val_accuracy: 0.8763\n"
          ]
        }
      ]
    },
    {
      "cell_type": "code",
      "source": [
        "from sklearn.metrics import classification_report\n",
        "\n",
        "# Отримання передбачень для тестових даних\n",
        "predictions = modified_model.predict(test_images)\n",
        "predicted_classes = np.argmax(predictions, axis=1)\n",
        "\n",
        "# Генерація classification report\n",
        "report = classification_report(test_labels, predicted_classes)\n",
        "print(report)\n",
        "\n",
        "# Перевірка точності на тестових даних за допомогою генератора\n",
        "test_loss, test_acc = modified_model.evaluate(validation_generator, steps=len(test_images) // 64, verbose=2)\n",
        "print(f'Test accuracy: {test_acc}')"
      ],
      "metadata": {
        "id": "UMq5c7ijZZHC",
        "colab": {
          "base_uri": "https://localhost:8080/"
        },
        "outputId": "c6c52768-4cd6-480b-e324-84231fb73b92"
      },
      "execution_count": 8,
      "outputs": [
        {
          "output_type": "stream",
          "name": "stdout",
          "text": [
            "313/313 [==============================] - 110s 350ms/step\n",
            "              precision    recall  f1-score   support\n",
            "\n",
            "           0       0.81      0.85      0.83      1000\n",
            "           1       0.99      0.99      0.99      1000\n",
            "           2       0.79      0.86      0.82      1000\n",
            "           3       0.93      0.76      0.84      1000\n",
            "           4       0.83      0.76      0.79      1000\n",
            "           5       0.96      0.97      0.97      1000\n",
            "           6       0.63      0.72      0.67      1000\n",
            "           7       0.96      0.92      0.94      1000\n",
            "           8       0.99      0.97      0.98      1000\n",
            "           9       0.94      0.97      0.95      1000\n",
            "\n",
            "    accuracy                           0.88     10000\n",
            "   macro avg       0.88      0.88      0.88     10000\n",
            "weighted avg       0.88      0.88      0.88     10000\n",
            "\n",
            "156/156 - 103s - loss: 0.3638 - accuracy: 0.8763 - 103s/epoch - 661ms/step\n",
            "Test accuracy: 0.8763020634651184\n"
          ]
        }
      ]
    },
    {
      "cell_type": "code",
      "source": [
        "import matplotlib.pyplot as plt\n",
        "\n",
        "acc = history.history[\"accuracy\"]\n",
        "val_acc = history.history[\"val_accuracy\"]\n",
        "\n",
        "loss = history.history[\"loss\"]\n",
        "val_loss = history.history[\"val_loss\"]\n",
        "\n",
        "epochs = range(1, len(acc) + 1)\n",
        "\n",
        "plt.figure(figsize=(20, 7), dpi=80)\n",
        "plt.grid(True)\n",
        "\n",
        "plt.plot(epochs, acc, \"bo\", label=\"Training acc\")\n",
        "plt.plot(epochs, val_acc, \"b\", label=\"Validation accuracy\")\n",
        "\n",
        "plt.title(\"Training and validation accuracy\")\n",
        "plt.legend()\n",
        "\n",
        "plt.figure(figsize=(20, 7), dpi=80)\n",
        "plt.grid(True)\n",
        "\n",
        "plt.plot(epochs, loss, \"bo\", label=\"Training loss\")\n",
        "plt.plot(epochs, val_loss, \"b\", label=\"Validation loss\")\n",
        "plt.title(\"Training and validation loss\")\n",
        "\n",
        "plt.legend()\n",
        "plt.show()"
      ],
      "metadata": {
        "id": "CLmJfvLtZcsj",
        "colab": {
          "base_uri": "https://localhost:8080/",
          "height": 979
        },
        "outputId": "3b001412-8354-4873-9638-7f40d8bdfa5a"
      },
      "execution_count": 9,
      "outputs": [
        {
          "output_type": "display_data",
          "data": {
            "text/plain": [
              "<Figure size 1600x560 with 1 Axes>"
            ],
            "image/png": "[encoded data removed]"
          },
          "metadata": {}
        },
        {
          "output_type": "display_data",
          "data": {
            "text/plain": [
              "<Figure size 1600x560 with 1 Axes>"
            ],
            "image/png": "[encoded data removed]"
          },
          "metadata": {}
        }
      ]
    },
    {
      "cell_type": "code",
      "source": [
        "modified_model.save(\"modified_model_VGG16.keras\")"
      ],
      "metadata": {
        "id": "ubtvFc2wZgTi"
      },
      "execution_count": 10,
      "outputs": []
    },
    {
      "cell_type": "code",
      "source": [
        "\n",
        "class_names = ['T-shirt/top', 'Trouser', 'Pullover', 'Dress', 'Coat',\n",
        "               'Sandal', 'Shirt', 'Sneaker', 'Bag', 'Ankle boot']\n",
        "\n",
        "# Виведення номерів і назв класів\n",
        "for idx, class_name in enumerate(class_names):\n",
        "    print(f'Номер: {idx}, Назва: {class_name}')"
      ],
      "metadata": {
        "colab": {
          "base_uri": "https://localhost:8080/"
        },
        "id": "j3wE3e4baRPy",
        "outputId": "2f66c5d8-4ad3-48ed-eae0-a2d84161f400"
      },
      "execution_count": 11,
      "outputs": [
        {
          "output_type": "stream",
          "name": "stdout",
          "text": [
            "Номер: 0, Назва: T-shirt/top\n",
            "Номер: 1, Назва: Trouser\n",
            "Номер: 2, Назва: Pullover\n",
            "Номер: 3, Назва: Dress\n",
            "Номер: 4, Назва: Coat\n",
            "Номер: 5, Назва: Sandal\n",
            "Номер: 6, Назва: Shirt\n",
            "Номер: 7, Назва: Sneaker\n",
            "Номер: 8, Назва: Bag\n",
            "Номер: 9, Назва: Ankle boot\n"
          ]
        }
      ]
    },
    {
      "cell_type": "code",
      "source": [
        "num_images = 5\n",
        "indices = np.random.choice(len(test_images), num_images, replace=False)\n",
        "\n",
        "for idx in indices:\n",
        "    image = test_images[idx]\n",
        "    true_label = test_labels[idx]\n",
        "\n",
        "    # Make predictions\n",
        "    y_pred_prob = modified_model.predict(np.expand_dims(image, axis=0))\n",
        "    predicted_label = np.argmax(y_pred_prob)\n",
        "\n",
        "    plt.figure(figsize=(3, 3))\n",
        "    plt.imshow(image, cmap='gray')\n",
        "    plt.axis('off')\n",
        "    plt.title(f'True: {true_label}, Predicted: {predicted_label}')\n",
        "    plt.show()\n",
        "\n",
        "    print('Class probabilities:')\n",
        "    for class_idx, prob in enumerate(y_pred_prob[0]):\n",
        "        print(f'Class {class_idx}: {prob:.4f}')"
      ],
      "metadata": {
        "colab": {
          "base_uri": "https://localhost:8080/",
          "height": 1000
        },
        "id": "7BY8i09zaVlw",
        "outputId": "43277139-b2b9-4586-86c6-995eac3768fd"
      },
      "execution_count": 13,
      "outputs": [
        {
          "output_type": "stream",
          "name": "stdout",
          "text": [
            "1/1 [==============================] - 0s 102ms/step\n"
          ]
        },
        {
          "output_type": "stream",
          "name": "stderr",
          "text": [
            "WARNING:matplotlib.image:Clipping input data to the valid range for imshow with RGB data ([0..1] for floats or [0..255] for integers).\n"
          ]
        },
        {
          "output_type": "display_data",
          "data": {
            "text/plain": [
              "<Figure size 300x300 with 1 Axes>"
            ],
            "image/png": "[encoded data removed]"
          },
          "metadata": {}
        },
        {
          "output_type": "stream",
          "name": "stdout",
          "text": [
            "Class probabilities:\n",
            "Class 0: 0.0000\n",
            "Class 1: 0.0000\n",
            "Class 2: 0.0000\n",
            "Class 3: 1.0000\n",
            "Class 4: 0.0000\n",
            "Class 5: 0.0000\n",
            "Class 6: 0.0000\n",
            "Class 7: 0.0000\n",
            "Class 8: 0.0000\n",
            "Class 9: 0.0000\n",
            "1/1 [==============================] - 0s 78ms/step\n"
          ]
        },
        {
          "output_type": "stream",
          "name": "stderr",
          "text": [
            "WARNING:matplotlib.image:Clipping input data to the valid range for imshow with RGB data ([0..1] for floats or [0..255] for integers).\n"
          ]
        },
        {
          "output_type": "display_data",
          "data": {
            "text/plain": [
              "<Figure size 300x300 with 1 Axes>"
            ],
            "image/png": "[encoded data removed]"
          },
          "metadata": {}
        },
        {
          "output_type": "stream",
          "name": "stdout",
          "text": [
            "Class probabilities:\n",
            "Class 0: 0.0007\n",
            "Class 1: 0.0002\n",
            "Class 2: 0.1127\n",
            "Class 3: 0.0026\n",
            "Class 4: 0.8322\n",
            "Class 5: 0.0000\n",
            "Class 6: 0.0509\n",
            "Class 7: 0.0001\n",
            "Class 8: 0.0005\n",
            "Class 9: 0.0001\n",
            "1/1 [==============================] - 0s 65ms/step\n"
          ]
        },
        {
          "output_type": "stream",
          "name": "stderr",
          "text": [
            "WARNING:matplotlib.image:Clipping input data to the valid range for imshow with RGB data ([0..1] for floats or [0..255] for integers).\n"
          ]
        },
        {
          "output_type": "display_data",
          "data": {
            "text/plain": [
              "<Figure size 300x300 with 1 Axes>"
            ],
            "image/png": "[encoded data removed]"
          },
          "metadata": {}
        },
        {
          "output_type": "stream",
          "name": "stdout",
          "text": [
            "Class probabilities:\n",
            "Class 0: 0.0000\n",
            "Class 1: 1.0000\n",
            "Class 2: 0.0000\n",
            "Class 3: 0.0000\n",
            "Class 4: 0.0000\n",
            "Class 5: 0.0000\n",
            "Class 6: 0.0000\n",
            "Class 7: 0.0000\n",
            "Class 8: 0.0000\n",
            "Class 9: 0.0000\n",
            "1/1 [==============================] - 0s 161ms/step\n"
          ]
        },
        {
          "output_type": "stream",
          "name": "stderr",
          "text": [
            "WARNING:matplotlib.image:Clipping input data to the valid range for imshow with RGB data ([0..1] for floats or [0..255] for integers).\n"
          ]
        },
        {
          "output_type": "display_data",
          "data": {
            "text/plain": [
              "<Figure size 300x300 with 1 Axes>"
            ],
            "image/png": "[encoded data removed]"
          },
          "metadata": {}
        },
        {
          "output_type": "stream",
          "name": "stdout",
          "text": [
            "Class probabilities:\n",
            "Class 0: 0.0014\n",
            "Class 1: 0.0000\n",
            "Class 2: 0.9544\n",
            "Class 3: 0.0003\n",
            "Class 4: 0.0064\n",
            "Class 5: 0.0000\n",
            "Class 6: 0.0373\n",
            "Class 7: 0.0001\n",
            "Class 8: 0.0000\n",
            "Class 9: 0.0000\n",
            "1/1 [==============================] - 0s 142ms/step\n"
          ]
        },
        {
          "output_type": "stream",
          "name": "stderr",
          "text": [
            "WARNING:matplotlib.image:Clipping input data to the valid range for imshow with RGB data ([0..1] for floats or [0..255] for integers).\n"
          ]
        },
        {
          "output_type": "display_data",
          "data": {
            "text/plain": [
              "<Figure size 300x300 with 1 Axes>"
            ],
            "image/png": "[encoded data removed]"
          },
          "metadata": {}
        },
        {
          "output_type": "stream",
          "name": "stdout",
          "text": [
            "Class probabilities:\n",
            "Class 0: 0.0000\n",
            "Class 1: 1.0000\n",
            "Class 2: 0.0000\n",
            "Class 3: 0.0000\n",
            "Class 4: 0.0000\n",
            "Class 5: 0.0000\n",
            "Class 6: 0.0000\n",
            "Class 7: 0.0000\n",
            "Class 8: 0.0000\n",
            "Class 9: 0.0000\n"
          ]
        }
      ]
    },
    {
      "cell_type": "code",
      "source": [
        "import pickle\n",
        "# Збереження історії навчання\n",
        "with open('fashion_mnist_model_VGG16_history.pkl', 'wb') as f:\n",
        "    pickle.dump(history.history, f)"
      ],
      "metadata": {
        "id": "BeZnI9hGaavG"
      },
      "execution_count": 15,
      "outputs": []
    },
    {
      "cell_type": "code",
      "source": [
        "\n",
        "from google.colab import files\n",
        "\n",
        "# Завантаження моделі у форматі HDF5\n",
        "# files.download('fashion_mnist_model_VGG16.h5')\n",
        "files.download('/content/modified_model_VGG16.keras')"
      ],
      "metadata": {
        "colab": {
          "base_uri": "https://localhost:8080/",
          "height": 17
        },
        "id": "bEkJ-P0Jab0I",
        "outputId": "3644f35e-4b9d-4395-edc7-926abf922382"
      },
      "execution_count": 17,
      "outputs": [
        {
          "output_type": "display_data",
          "data": {
            "text/plain": [
              "<IPython.core.display.Javascript object>"
            ],
            "application/javascript": [
              "\n",
              "    async function download(id, filename, size) {\n",
              "      if (!google.colab.kernel.accessAllowed) {\n",
              "        return;\n",
              "      }\n",
              "      const div = document.createElement('div');\n",
              "      const label = document.createElement('label');\n",
              "      label.textContent = `Downloading \"${filename}\": `;\n",
              "      div.appendChild(label);\n",
              "      const progress = document.createElement('progress');\n",
              "      progress.max = size;\n",
              "      div.appendChild(progress);\n",
              "      document.body.appendChild(div);\n",
              "\n",
              "      const buffers = [];\n",
              "      let downloaded = 0;\n",
              "\n",
              "      const channel = await google.colab.kernel.comms.open(id);\n",
              "      // Send a message to notify the kernel that we're ready.\n",
              "      channel.send({})\n",
              "\n",
              "      for await (const message of channel.messages) {\n",
              "        // Send a message to notify the kernel that we're ready.\n",
              "        channel.send({})\n",
              "        if (message.buffers) {\n",
              "          for (const buffer of message.buffers) {\n",
              "            buffers.push(buffer);\n",
              "            downloaded += buffer.byteLength;\n",
              "            progress.value = downloaded;\n",
              "          }\n",
              "        }\n",
              "      }\n",
              "      const blob = new Blob(buffers, {type: 'application/binary'});\n",
              "      const a = document.createElement('a');\n",
              "      a.href = window.URL.createObjectURL(blob);\n",
              "      a.download = filename;\n",
              "      div.appendChild(a);\n",
              "      a.click();\n",
              "      div.remove();\n",
              "    }\n",
              "  "
            ]
          },
          "metadata": {}
        },
        {
          "output_type": "display_data",
          "data": {
            "text/plain": [
              "<IPython.core.display.Javascript object>"
            ],
            "application/javascript": [
              "download(\"download_c84d155b-a655-41e7-a4c2-8a4c529d2950\", \"modified_model_VGG16.keras\", 88335667)"
            ]
          },
          "metadata": {}
        }
      ]
    },
    {
      "cell_type": "code",
      "source": [
        "from google.colab import drive\n",
        "\n",
        "# Mount Google Drive\n",
        "drive.mount('/content/drive')"
      ],
      "metadata": {
        "colab": {
          "base_uri": "https://localhost:8080/"
        },
        "id": "4w4DPEiQyMo6",
        "outputId": "e1be40b9-2c6d-497b-822d-93cbba95403d"
      },
      "execution_count": 20,
      "outputs": [
        {
          "output_type": "stream",
          "name": "stdout",
          "text": [
            "Mounted at /content/drive\n"
          ]
        }
      ]
    },
    {
      "cell_type": "code",
      "source": [
        "\n",
        "from tensorflow.keras.models import load_model\n",
        "\n",
        "# model_vgg16_loaded = load_model(\"fashion_mnist_model_VGG16.h5\")\n",
        "model_vgg16_loaded = load_model(\"/content/drive/MyDrive/Files/hw13/task2/modified_model_VGG16.keras\")\n",
        "model_vgg16_loaded.summary()"
      ],
      "metadata": {
        "colab": {
          "base_uri": "https://localhost:8080/"
        },
        "id": "rcveHs4lagnn",
        "outputId": "59efd958-470c-47bf-ad99-90d842608aa9"
      },
      "execution_count": 22,
      "outputs": [
        {
          "output_type": "stream",
          "name": "stdout",
          "text": [
            "Model: \"sequential\"\n",
            "_________________________________________________________________\n",
            " Layer (type)                Output Shape              Param #   \n",
            "=================================================================\n",
            " vgg16 (Functional)          (None, 1, 1, 512)         14714688  \n",
            "                                                                 \n",
            " flatten (Flatten)           (None, 512)               0         \n",
            "                                                                 \n",
            " dense (Dense)               (None, 256)               131328    \n",
            "                                                                 \n",
            " dropout (Dropout)           (None, 256)               0         \n",
            "                                                                 \n",
            " dense_1 (Dense)             (None, 10)                2570      \n",
            "                                                                 \n",
            "=================================================================\n",
            "Total params: 14848586 (56.64 MB)\n",
            "Trainable params: 7213322 (27.52 MB)\n",
            "Non-trainable params: 7635264 (29.13 MB)\n",
            "_________________________________________________________________\n"
          ]
        }
      ]
    },
    {
      "cell_type": "markdown",
      "source": [
        "**Висновок:** Застосування VGG16 в якості згорткової основи для датасету алгоритмів генератора та подальне донавчання створеної мережі показало покращення точності і інших метрик якості, але неістотно. ТОбто по суті донавчання відбулося на базі вже досягнугнутої точності, але покразилось незначно, навіть беруи під увагу велику кількість епох. Варто відмінити те, що модель, навіть при такій великій кількості епох не стала перенавченою. Але залишилась з відносно невисокими показниками точності - бльзько 0.78."
      ],
      "metadata": {
        "id": "Lh4XDMFRZqKP"
      }
    },
    {
      "cell_type": "code",
      "source": [],
      "metadata": {
        "id": "veoqgNb3ZDfB"
      },
      "execution_count": null,
      "outputs": []
    }
  ]
}